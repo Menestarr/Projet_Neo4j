{
 "cells": [
  {
   "cell_type": "code",
   "execution_count": 1,
   "id": "221bba3f",
   "metadata": {},
   "outputs": [],
   "source": [
    "import pandas as pd\n",
    "import numpy as np\n",
    "import os\n",
    "from tqdm import tqdm\n",
    "tqdm.pandas()"
   ]
  },
  {
   "cell_type": "code",
   "execution_count": 2,
   "id": "48df00f7",
   "metadata": {},
   "outputs": [],
   "source": [
    "DATA_PATH = './data/'\n",
    "DB_PATH = './db/'\n",
    "\n",
    "yelp_restaurants = pd.read_json(DATA_PATH+'yelp_restaurants.json')\n",
    "yelp_user = pd.read_json(DATA_PATH+'yelp_user.json')\n",
    "yelp_review = pd.read_json(DATA_PATH+'yelp_review.json')"
   ]
  },
  {
   "cell_type": "code",
   "execution_count": 5,
   "id": "9f3f7376",
   "metadata": {},
   "outputs": [
    {
     "name": "stderr",
     "output_type": "stream",
     "text": [
      "100%|███████████████████████████████████████████████████████████████████████████| 23082/23082 [01:22<00:00, 279.68it/s]\n",
      "100%|███████████████████████████████████████████████████████████████████████████| 49150/49150 [02:44<00:00, 298.87it/s]\n"
     ]
    }
   ],
   "source": [
    "# Création des noeuds user\n",
    "\n",
    "users_csv = yelp_user[[\"user_id\",\"name\",\"review_count\",\"friends\",\"fans\"]]  \n",
    "users_csv.to_csv(DB_PATH+'users.csv')\n",
    "\n",
    "# Création des relations friends\n",
    "\n",
    "friend_relationships_csv = pd.DataFrame(columns = [\"user_id\",\"friend_id\"])\n",
    "\n",
    "for i in tqdm(users_csv.index):\n",
    "    row = users_csv.iloc[i]\n",
    "    user_id = row['user_id']\n",
    "    friends = row[\"friends\"]\n",
    "    relationships = []\n",
    "    columns = [\"user_id\",\"friend_id\"]\n",
    "    for friend_id in friends:\n",
    "        relationships.append([user_id,friend_id])\n",
    "    \n",
    "    df_to_concat = pd.DataFrame(data=relationships,columns=columns)\n",
    "    friend_relationships_csv = pd.concat([friend_relationships_csv,df_to_concat])\n",
    "\n",
    "friend_relationships_csv.to_csv(DB_PATH+'friend_relationships.csv')\n",
    "\n",
    "# Création des noeuds review\n",
    "\n",
    "reviews_csv = yelp_review[[\"review_id\",\"stars\",\"useful\",\"cool\"]]  \n",
    "reviews_csv.to_csv(DB_PATH+'reviews.csv')\n",
    "\n",
    "# Création des relations reviewed\n",
    "\n",
    "reviewed_relationships_csv = pd.DataFrame(columns=[\"user_id\",\"review_id\"])\n",
    "\n",
    "for i in tqdm(yelp_review.index):\n",
    "    row = yelp_review.iloc[i]\n",
    "    review_id = row[\"review_id\"]\n",
    "    user_id = row[\"user_id\"]\n",
    "    df_to_concat = pd.DataFrame(data=[[user_id, review_id]], columns=[\"user_id\", \"review_id\"])\n",
    "    \n",
    "    reviewed_relationships_csv = pd.concat([reviewed_relationships_csv,df_to_concat])\n",
    "\n",
    "reviewed_relationships_csv.to_csv(DB_PATH+'reviewed_relationships.csv')"
   ]
  },
  {
   "cell_type": "code",
   "execution_count": 15,
   "id": "6afd2ba5",
   "metadata": {},
   "outputs": [
    {
     "name": "stderr",
     "output_type": "stream",
     "text": [
      "100%|███████████████████████████████████████████████████████████████████████████| 49150/49150 [02:43<00:00, 301.34it/s]\n"
     ]
    },
    {
     "data": {
      "text/html": [
       "<div>\n",
       "<style scoped>\n",
       "    .dataframe tbody tr th:only-of-type {\n",
       "        vertical-align: middle;\n",
       "    }\n",
       "\n",
       "    .dataframe tbody tr th {\n",
       "        vertical-align: top;\n",
       "    }\n",
       "\n",
       "    .dataframe thead th {\n",
       "        text-align: right;\n",
       "    }\n",
       "</style>\n",
       "<table border=\"1\" class=\"dataframe\">\n",
       "  <thead>\n",
       "    <tr style=\"text-align: right;\">\n",
       "      <th></th>\n",
       "      <th>review_id</th>\n",
       "      <th>restaurant_id</th>\n",
       "    </tr>\n",
       "  </thead>\n",
       "  <tbody>\n",
       "    <tr>\n",
       "      <th>0</th>\n",
       "      <td>2xlNGuN8naQTHO3_xY0lGw</td>\n",
       "      <td>yDiWYpuzRxcTgSi_O4JZpQ</td>\n",
       "    </tr>\n",
       "    <tr>\n",
       "      <th>0</th>\n",
       "      <td>_Dkml_CfMMb_wWeGpFtczg</td>\n",
       "      <td>W6S482dRQ_9nCcLjfv8VNg</td>\n",
       "    </tr>\n",
       "    <tr>\n",
       "      <th>0</th>\n",
       "      <td>EmLTCw2p9BhOwnzHFXgGaQ</td>\n",
       "      <td>OlOVRlcEstxKK_6hMjy63A</td>\n",
       "    </tr>\n",
       "    <tr>\n",
       "      <th>0</th>\n",
       "      <td>PlYifdeyiixRZkymbUNqVQ</td>\n",
       "      <td>DAcqRGI_u8yNCcUIczfNxA</td>\n",
       "    </tr>\n",
       "    <tr>\n",
       "      <th>0</th>\n",
       "      <td>PtUd264rjqWuEzL89nf64w</td>\n",
       "      <td>5IFqqWJTaPNoY2ZgRlX73w</td>\n",
       "    </tr>\n",
       "    <tr>\n",
       "      <th>...</th>\n",
       "      <td>...</td>\n",
       "      <td>...</td>\n",
       "    </tr>\n",
       "    <tr>\n",
       "      <th>0</th>\n",
       "      <td>nWGqiW9gSFeb4jFTw2_guA</td>\n",
       "      <td>tILA8ctsD_OZIcM2IfSyQA</td>\n",
       "    </tr>\n",
       "    <tr>\n",
       "      <th>0</th>\n",
       "      <td>hK_2Z2XFGz7H3Mdl-t0Ubg</td>\n",
       "      <td>riwJWxj4850tGBhRahDt7g</td>\n",
       "    </tr>\n",
       "    <tr>\n",
       "      <th>0</th>\n",
       "      <td>nz-OnQGnVIyy-gs7xVSJZQ</td>\n",
       "      <td>YNWEM2NVocUl6d74yRvpug</td>\n",
       "    </tr>\n",
       "    <tr>\n",
       "      <th>0</th>\n",
       "      <td>XPrmT_RGh3t7uq9NYhcG7g</td>\n",
       "      <td>iWFK7U-wBR-68X0VFrSkNA</td>\n",
       "    </tr>\n",
       "    <tr>\n",
       "      <th>0</th>\n",
       "      <td>tqKl99S3x2p6cNWmekW3MA</td>\n",
       "      <td>tILA8ctsD_OZIcM2IfSyQA</td>\n",
       "    </tr>\n",
       "  </tbody>\n",
       "</table>\n",
       "<p>49150 rows × 2 columns</p>\n",
       "</div>"
      ],
      "text/plain": [
       "                 review_id           restaurant_id\n",
       "0   2xlNGuN8naQTHO3_xY0lGw  yDiWYpuzRxcTgSi_O4JZpQ\n",
       "0   _Dkml_CfMMb_wWeGpFtczg  W6S482dRQ_9nCcLjfv8VNg\n",
       "0   EmLTCw2p9BhOwnzHFXgGaQ  OlOVRlcEstxKK_6hMjy63A\n",
       "0   PlYifdeyiixRZkymbUNqVQ  DAcqRGI_u8yNCcUIczfNxA\n",
       "0   PtUd264rjqWuEzL89nf64w  5IFqqWJTaPNoY2ZgRlX73w\n",
       "..                     ...                     ...\n",
       "0   nWGqiW9gSFeb4jFTw2_guA  tILA8ctsD_OZIcM2IfSyQA\n",
       "0   hK_2Z2XFGz7H3Mdl-t0Ubg  riwJWxj4850tGBhRahDt7g\n",
       "0   nz-OnQGnVIyy-gs7xVSJZQ  YNWEM2NVocUl6d74yRvpug\n",
       "0   XPrmT_RGh3t7uq9NYhcG7g  iWFK7U-wBR-68X0VFrSkNA\n",
       "0   tqKl99S3x2p6cNWmekW3MA  tILA8ctsD_OZIcM2IfSyQA\n",
       "\n",
       "[49150 rows x 2 columns]"
      ]
     },
     "execution_count": 15,
     "metadata": {},
     "output_type": "execute_result"
    }
   ],
   "source": [
    "revRest_relationships_csv = pd.DataFrame(columns = [\"review_id\",\"restaurant_id\"])\n",
    "\n",
    "for i in tqdm(yelp_review.index):\n",
    "    row = yelp_review.iloc[i]\n",
    "    review_id = row[\"review_id\"]\n",
    "    restaurant_id = row[\"business_id\"]\n",
    "    df_to_concat = pd.DataFrame(data=[[review_id, restaurant_id]], columns=[\"review_id\", \"restaurant_id\"])\n",
    "    \n",
    "    revRest_relationships_csv = pd.concat([revRest_relationships_csv,df_to_concat])\n",
    "\n",
    "revRest_relationships_csv"
   ]
  },
  {
   "cell_type": "code",
   "execution_count": null,
   "id": "24faae86",
   "metadata": {},
   "outputs": [],
   "source": [
    "revRest_relations"
   ]
  }
 ],
 "metadata": {
  "kernelspec": {
   "display_name": "Python 3 (ipykernel)",
   "language": "python",
   "name": "python3"
  },
  "language_info": {
   "codemirror_mode": {
    "name": "ipython",
    "version": 3
   },
   "file_extension": ".py",
   "mimetype": "text/x-python",
   "name": "python",
   "nbconvert_exporter": "python",
   "pygments_lexer": "ipython3",
   "version": "3.9.12"
  }
 },
 "nbformat": 4,
 "nbformat_minor": 5
}
