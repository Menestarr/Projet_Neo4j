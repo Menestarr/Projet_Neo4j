{
 "cells": [
  {
   "cell_type": "code",
   "execution_count": 1,
   "id": "221bba3f",
   "metadata": {},
   "outputs": [],
   "source": [
    "import pandas as pd\n",
    "import numpy as np\n",
    "import os\n",
    "from tqdm import tqdm\n",
    "tqdm.pandas()"
   ]
  },
  {
   "cell_type": "code",
   "execution_count": 2,
   "id": "48df00f7",
   "metadata": {},
   "outputs": [],
   "source": [
    "DATA_PATH = './data/'\n",
    "DB_PATH = './db/'\n",
    "\n",
    "yelp_restaurants = pd.read_json(DATA_PATH+'yelp_restaurants.json')\n",
    "yelp_user = pd.read_json(DATA_PATH+'yelp_user.json')\n",
    "yelp_review = pd.read_json(DATA_PATH+'yelp_review.json')"
   ]
  },
  {
   "cell_type": "code",
   "execution_count": 5,
   "id": "9f3f7376",
   "metadata": {},
   "outputs": [
    {
     "name": "stderr",
     "output_type": "stream",
     "text": [
      "100%|███████████████████████████████████████████████████████████████████████████| 23082/23082 [01:22<00:00, 279.68it/s]\n",
      "100%|███████████████████████████████████████████████████████████████████████████| 49150/49150 [02:44<00:00, 298.87it/s]\n"
     ]
    }
   ],
   "source": [
    "# Création des noeuds user\n",
    "\n",
    "users_csv = yelp_user[[\"user_id\",\"name\",\"review_count\",\"friends\",\"fans\"]]  \n",
    "users_csv.to_csv(DB_PATH+'users.csv')\n",
    "\n",
    "# Création des relations friends\n",
    "\n",
    "friend_relationships_csv = pd.DataFrame(columns = [\"user_id\",\"friend_id\"])\n",
    "\n",
    "for i in tqdm(users_csv.index):\n",
    "    row = users_csv.iloc[i]\n",
    "    user_id = row['user_id']\n",
    "    friends = row[\"friends\"]\n",
    "    relationships = []\n",
    "    columns = [\"user_id\",\"friend_id\"]\n",
    "    for friend_id in friends:\n",
    "        relationships.append([user_id,friend_id])\n",
    "    \n",
    "    df_to_concat = pd.DataFrame(data=relationships,columns=columns)\n",
    "    friend_relationships_csv = pd.concat([friend_relationships_csv,df_to_concat])\n",
    "\n",
    "friend_relationships_csv.to_csv(DB_PATH+'friend_relationships.csv')\n",
    "\n",
    "# Création des noeuds review\n",
    "\n",
    "reviews_csv = yelp_review[[\"review_id\",\"stars\",\"useful\",\"cool\"]]  \n",
    "reviews_csv.to_csv(DB_PATH+'reviews.csv')\n",
    "\n",
    "# Création des relations reviewed\n",
    "\n",
    "reviewed_relationships_csv = pd.DataFrame(columns=[\"user_id\",\"review_id\"])\n",
    "\n",
    "for i in tqdm(yelp_review.index):\n",
    "    row = yelp_review.iloc[i]\n",
    "    review_id = row[\"review_id\"]\n",
    "    user_id = row[\"user_id\"]\n",
    "    df_to_concat = pd.DataFrame(data=[[user_id, review_id]], columns=[\"user_id\", \"review_id\"])\n",
    "    \n",
    "    reviewed_relationships_csv = pd.concat([reviewed_relationships_csv,df_to_concat])\n",
    "\n",
    "reviewed_relationships_csv.to_csv(DB_PATH+'reviewed_relationships.csv')\n",
    "\n",
    "# Création des relations revRest (Review - Restaurant)\n",
    "\n",
    "revRest_relationships_csv = pd.DataFrame(columns = [\"review_id\",\"restaurant_id\"])\n",
    "\n",
    "for i in tqdm(yelp_review.index):\n",
    "    row = yelp_review.iloc[i]\n",
    "    review_id = row[\"review_id\"]\n",
    "    restaurant_id = row[\"business_id\"]\n",
    "    df_to_concat = pd.DataFrame(data=[[review_id, restaurant_id]], columns=[\"review_id\", \"restaurant_id\"])\n",
    "    \n",
    "    revRest_relationships_csv = pd.concat([revRest_relationships_csv,df_to_concat])\n",
    "\n",
    "revRest_relationships_csv.to_csv(DB_PATH+'revRest_relationships.csv')\n",
    "\n",
    "# création des relations revAmb (Resturant - Ambience)\n",
    "\n",
    "def ambs_to_dict(ambs):\n",
    "    try:\n",
    "        d = {}\n",
    "        ambs = ambs.replace(\"{\",\"\")\n",
    "        ambs = ambs.replace(\"}\",\"\")\n",
    "        ambs = ambs.replace(\"u'\",\"\")\n",
    "        ambs = ambs.replace(\"'\",\"\")\n",
    "        ambs = ambs.replace(\" \",\"\")\n",
    "        ambs = ambs.split(\",\")\n",
    "        for amb in ambs:\n",
    "            amb, val = amb.split(\":\")\n",
    "            d[amb] = val\n",
    "        return d\n",
    "    \n",
    "    except:\n",
    "        return {}\n",
    "\n",
    "ambience_csv = pd.read_csv(DB_PATH+\"ambience.csv\")\n",
    "\n",
    "ambiences_id = {}\n",
    "for i in ambience_csv.index:\n",
    "    row = ambience_csv.iloc[i]\n",
    "    ambiences_id[row[\"ambience\"]] = row[\"ambience_id\"]\n",
    "    \n",
    "\n",
    "restAmb_csv = pd.DataFrame(columns = [\"restaurant_id\", \"ambience_id\"])\n",
    "\n",
    "for i in tqdm(yelp_restaurants.index):\n",
    "    row = yelp_restaurants.iloc[i]\n",
    "    data = []\n",
    "    restaurant_id = row[\"business_id\"]\n",
    "    try:\n",
    "        ambs = ambs_to_dict(row[\"attributes\"][\"Ambience\"])\n",
    "        for amb, b in ambs.items():\n",
    "            if b == \"True\":\n",
    "                data.append([restaurant_id, ambiences_id[amb]])\n",
    "    \n",
    "        df_to_concat = pd.DataFrame(data=data, columns=[\"restaurant_id\", \"ambience_id\"])\n",
    "    \n",
    "        restAmb_csv = pd.concat([restAmb_csv,df_to_concat])\n",
    "        \n",
    "    except:\n",
    "        pass\n",
    "\n",
    "restAmb_csv.to_csv(DB_PATH+\"\")"
   ]
  },
  {
   "cell_type": "code",
   "execution_count": 55,
   "id": "7f6774f8",
   "metadata": {},
   "outputs": [
    {
     "name": "stderr",
     "output_type": "stream",
     "text": [
      "100%|███████████████████████████████████████████████████████████████████████████████| 961/961 [00:01<00:00, 616.41it/s]\n"
     ]
    }
   ],
   "source": []
  }
 ],
 "metadata": {
  "kernelspec": {
   "display_name": "Python 3 (ipykernel)",
   "language": "python",
   "name": "python3"
  },
  "language_info": {
   "codemirror_mode": {
    "name": "ipython",
    "version": 3
   },
   "file_extension": ".py",
   "mimetype": "text/x-python",
   "name": "python",
   "nbconvert_exporter": "python",
   "pygments_lexer": "ipython3",
   "version": "3.9.12"
  }
 },
 "nbformat": 4,
 "nbformat_minor": 5
}
